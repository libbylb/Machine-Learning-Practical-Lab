{
 "cells": [
  {
   "cell_type": "code",
   "execution_count": 2,
   "metadata": {},
   "outputs": [],
   "source": [
    "import numpy as np\n",
    "import matplotlib.pyplot as plt\n",
    "import time\n",
    "import pandas as pd\n",
    "from scipy.spatial import distance\n",
    "import sys \n"
   ]
  },
  {
   "cell_type": "markdown",
   "metadata": {},
   "source": [
    "# 1.0"
   ]
  },
  {
   "cell_type": "code",
   "execution_count": 3,
   "metadata": {},
   "outputs": [],
   "source": [
    "SampleSet = range(3)\n",
    "SubSeq = np.array([2,0,1])\n",
    "n = 10000\n",
    "z = np.random.choice(SampleSet,n)"
   ]
  },
  {
   "cell_type": "code",
   "execution_count": 4,
   "metadata": {},
   "outputs": [
    {
     "name": "stdout",
     "output_type": "stream",
     "text": [
      "runtime:  0.009999752044677734\n",
      "number of apparences of (2,0,1):  378\n"
     ]
    }
   ],
   "source": [
    "start = time.time()\n",
    "cnt = 0\n",
    "for i in range(n-2):\n",
    "    if z[i]==2 and z[i+1]==0 and z[i+2]==1:\n",
    "        cnt=cnt+1\n",
    "end= time.time()\n",
    "print('runtime: ' ,end-start)\n",
    "print('number of apparences of (2,0,1): ',cnt)"
   ]
  },
  {
   "cell_type": "code",
   "execution_count": 5,
   "metadata": {},
   "outputs": [
    {
     "name": "stdout",
     "output_type": "stream",
     "text": [
      "runtime:  0.009999752044677734\n",
      "number of apparences of (2,0,1):  378\n"
     ]
    }
   ],
   "source": [
    "start = time.time()\n",
    "Shift1=np.roll(z,n-1)\n",
    "Shift2=np.roll(z,n-2)\n",
    "Shift1[n-1],Shift2[n-1],Shift2[n-2]=-99999,-99999,-99999\n",
    "ans=np.logical_and(Shift2==1,np.logical_and(z==2,Shift1==0))\n",
    "end= time.time()\n",
    "print('runtime: ' ,end-start)\n",
    "print('number of apparences of (2,0,1): ',cnt)"
   ]
  },
  {
   "cell_type": "markdown",
   "metadata": {},
   "source": [
    "# 1.1a"
   ]
  },
  {
   "cell_type": "code",
   "execution_count": 6,
   "metadata": {},
   "outputs": [
    {
     "data": {
      "image/png": "[encoded data removed]",
      "text/plain": [
       "<Figure size 432x288 with 1 Axes>"
      ]
     },
     "metadata": {
      "needs_background": "light"
     },
     "output_type": "display_data"
    }
   ],
   "source": [
    "SampleSize = 10\n",
    "meana=np.array([1.5, 0])\n",
    "meanb= np.array([0,1.5])\n",
    "var=np.eye(2,2)\n",
    "a= np.random.multivariate_normal(meana, var, SampleSize)\n",
    "b= np.random.multivariate_normal(meanb, var, SampleSize)\n",
    "plt.plot(a[:,0],a[:,1],'ro')\n",
    "plt.plot(b[:,0],b[:,1],'bo')\n",
    "plt.show()"
   ]
  },
  {
   "cell_type": "markdown",
   "metadata": {},
   "source": [
    "# 1.1b"
   ]
  },
  {
   "cell_type": "code",
   "execution_count": 7,
   "metadata": {},
   "outputs": [
    {
     "name": "stdout",
     "output_type": "stream",
     "text": [
      "(100, 2)\n",
      "(100, 3)\n"
     ]
    },
    {
     "data": {
      "image/png": "[encoded data removed]",
      "text/plain": [
       "<Figure size 432x288 with 1 Axes>"
      ]
     },
     "metadata": {
      "needs_background": "light"
     },
     "output_type": "display_data"
    }
   ],
   "source": [
    "SampleSet = range(10)\n",
    "n = 100\n",
    "Indx = np.random.choice(SampleSet,2*n)\n",
    "eps1=np.random.multivariate_normal([0,0], 1/4*np.eye(2,2), n)\n",
    "eps2=np.random.multivariate_normal([0,0], 1/4*np.eye(2,2), n)\n",
    "x1= a[Indx[0:n]]+eps1\n",
    "x2= b[Indx[n:2*n]]+eps2\n",
    "print(x1.shape)\n",
    "\n",
    "x1=np.insert(x1,2,1,axis=1)\n",
    "\n",
    "print(x1.shape)\n",
    "x2= np.insert(x2,2,0,axis=1)\n",
    "\n",
    "Data1 = np.concatenate((x1,x2))\n",
    "plt.plot(Data1[0:n,0],Data1[0:n,1],'ro',Data1[n:2*n,0],Data1[n:2*n,1],'bo')\n",
    "plt.show()"
   ]
  },
  {
   "cell_type": "markdown",
   "metadata": {},
   "source": [
    "# 1.2"
   ]
  },
  {
   "cell_type": "code",
   "execution_count": 8,
   "metadata": {},
   "outputs": [],
   "source": [
    "# Solve LLS\n",
    "# returns coefficients for classifiying line a_0x_0 + ... + a_(d-1)x_(d-1) + a_d = 0.5\n",
    "def LLS(X): #X a (n,d) numpy array with d-1 dependent variables and 1 independent variable\n",
    "    n = X.shape[0]\n",
    "    d = X.shape[1]\n",
    "    X = np.insert(X,d-1,1,axis=1) # add column of 1s for constant term\n",
    "    x = X[:,0:d] # dependent variable\n",
    "    y = X[:,d] # independent variable\n",
    "    y=y.reshape(n,1)\n",
    "    c=x.T@x\n",
    "    return(np.linalg.solve(c,x.T@y)) "
   ]
  },
  {
   "cell_type": "code",
   "execution_count": 9,
   "metadata": {},
   "outputs": [],
   "source": [
    "# Gives a scatter plot of labeled data with Sperating Hyperplane\n",
    "# Input should be a (n,3) matrix with the first 2 columns the dependent variables and the last column the dependent variable (should be 0s and 1s)\n",
    "def conplot(X):\n",
    "    alpha=LLS(X)\n",
    "    maxx = np.amax(X[:,0])\n",
    "    maxy = np.amax(X[:,1])\n",
    "    minx = np.amin(X[:,0])\n",
    "    miny = np.amin(X[:,1])\n",
    "    t = np.arange(minx-1, maxx+1, 0.1)\n",
    "    s = np.arange(miny-1, maxy+1, 0.1)\n",
    "    p,q = np.meshgrid(t, s, sparse=True)\n",
    "    z = alpha[1,0]*q+alpha[0,0]*p + alpha[2,0]\n",
    "    h = plt.contourf(t,s,z,[-99999,0.5,99999], colors=['blue','red'],alpha=0.5)\n",
    "    plt.plot(X[X[:,2]==1][:,0],X[X[:,2]==1][:,1],'ro',X[X[:,2]==0][:,0],X[X[:,2]==0][:,1],'bo')"
   ]
  },
  {
   "cell_type": "code",
   "execution_count": 10,
   "metadata": {},
   "outputs": [
    {
     "data": {
      "image/png": "[encoded data removed]",
      "text/plain": [
       "<Figure size 432x288 with 1 Axes>"
      ]
     },
     "metadata": {
      "needs_background": "light"
     },
     "output_type": "display_data"
    }
   ],
   "source": [
    "conplot(Data1)\n",
    "plt.show()"
   ]
  },
  {
   "cell_type": "markdown",
   "metadata": {},
   "source": [
    "# 1.3"
   ]
  },
  {
   "cell_type": "code",
   "execution_count": 11,
   "metadata": {},
   "outputs": [],
   "source": [
    "# Confusion Matrix\n",
    "#Prints out the Confusion Matrix and the Accuracy and returns the Confusion Matrix\n",
    "def confusion(X,alpha):\n",
    "    n=X.shape[0]\n",
    "    d=X.shape[1]-1\n",
    "    Xevaled = X[:,0:d].dot(alpha[0:d,0])+alpha[d,0]\n",
    "    C10=np.sum(np.logical_and([Xevaled>0.5],X[:,d]==0))\n",
    "    C00=np.sum(np.logical_and([Xevaled<0.5],X[:,d]==0))\n",
    "    C01=np.sum(np.logical_and([Xevaled<0.5],X[:,d]==1))\n",
    "    C11=np.sum(np.logical_and([Xevaled>0.5],X[:,d]==1))\n",
    "    C=[[C00,C01],[C10,C11]]\n",
    "    print(\"Confusion matrix: \", C)\n",
    "    print(\"accuracy: \" , np.trace(C)/n)\n",
    "    return(C)"
   ]
  },
  {
   "cell_type": "code",
   "execution_count": 12,
   "metadata": {
    "scrolled": true
   },
   "outputs": [
    {
     "name": "stdout",
     "output_type": "stream",
     "text": [
      "Confusion matrix:  [[90, 15], [10, 85]]\n",
      "accuracy:  0.875\n"
     ]
    },
    {
     "data": {
      "text/plain": [
       "[[90, 15], [10, 85]]"
      ]
     },
     "execution_count": 12,
     "metadata": {},
     "output_type": "execute_result"
    }
   ],
   "source": [
    "confusion(Data1,LLS(Data1))"
   ]
  },
  {
   "cell_type": "markdown",
   "metadata": {},
   "source": [
    "# 1.4"
   ]
  },
  {
   "cell_type": "code",
   "execution_count": 34,
   "metadata": {},
   "outputs": [
    {
     "ename": "IndexError",
     "evalue": "index 8 is out of bounds for axis 0 with size 3",
     "output_type": "error",
     "traceback": [
      "\u001b[1;31m---------------------------------------------------------------------------\u001b[0m",
      "\u001b[1;31mIndexError\u001b[0m                                Traceback (most recent call last)",
      "\u001b[1;32m<ipython-input-34-8c265bb393e0>\u001b[0m in \u001b[0;36m<module>\u001b[1;34m\u001b[0m\n\u001b[0;32m      8\u001b[0m \u001b[0meps1\u001b[0m\u001b[1;33m=\u001b[0m\u001b[0mnp\u001b[0m\u001b[1;33m.\u001b[0m\u001b[0mrandom\u001b[0m\u001b[1;33m.\u001b[0m\u001b[0mmultivariate_normal\u001b[0m\u001b[1;33m(\u001b[0m\u001b[1;33m[\u001b[0m\u001b[1;36m0\u001b[0m\u001b[1;33m,\u001b[0m\u001b[1;36m0\u001b[0m\u001b[1;33m]\u001b[0m\u001b[1;33m,\u001b[0m \u001b[1;36m1\u001b[0m\u001b[1;33m/\u001b[0m\u001b[1;36m4\u001b[0m\u001b[1;33m*\u001b[0m\u001b[0mnp\u001b[0m\u001b[1;33m.\u001b[0m\u001b[0meye\u001b[0m\u001b[1;33m(\u001b[0m\u001b[1;36m2\u001b[0m\u001b[1;33m,\u001b[0m\u001b[1;36m2\u001b[0m\u001b[1;33m)\u001b[0m\u001b[1;33m,\u001b[0m \u001b[0mn\u001b[0m\u001b[1;33m)\u001b[0m\u001b[1;33m\u001b[0m\u001b[1;33m\u001b[0m\u001b[0m\n\u001b[0;32m      9\u001b[0m \u001b[0meps2\u001b[0m\u001b[1;33m=\u001b[0m\u001b[0mnp\u001b[0m\u001b[1;33m.\u001b[0m\u001b[0mrandom\u001b[0m\u001b[1;33m.\u001b[0m\u001b[0mmultivariate_normal\u001b[0m\u001b[1;33m(\u001b[0m\u001b[1;33m[\u001b[0m\u001b[1;36m0\u001b[0m\u001b[1;33m,\u001b[0m\u001b[1;36m0\u001b[0m\u001b[1;33m]\u001b[0m\u001b[1;33m,\u001b[0m \u001b[1;36m1\u001b[0m\u001b[1;33m/\u001b[0m\u001b[1;36m4\u001b[0m\u001b[1;33m*\u001b[0m\u001b[0mnp\u001b[0m\u001b[1;33m.\u001b[0m\u001b[0meye\u001b[0m\u001b[1;33m(\u001b[0m\u001b[1;36m2\u001b[0m\u001b[1;33m,\u001b[0m\u001b[1;36m2\u001b[0m\u001b[1;33m)\u001b[0m\u001b[1;33m,\u001b[0m \u001b[0mn\u001b[0m\u001b[1;33m)\u001b[0m\u001b[1;33m\u001b[0m\u001b[1;33m\u001b[0m\u001b[0m\n\u001b[1;32m---> 10\u001b[1;33m \u001b[0mx1\u001b[0m\u001b[1;33m=\u001b[0m \u001b[0ma\u001b[0m\u001b[1;33m[\u001b[0m\u001b[0mIndx\u001b[0m\u001b[1;33m[\u001b[0m\u001b[1;36m0\u001b[0m\u001b[1;33m:\u001b[0m\u001b[0mn\u001b[0m\u001b[1;33m]\u001b[0m\u001b[1;33m]\u001b[0m\u001b[1;33m+\u001b[0m\u001b[0meps1\u001b[0m\u001b[1;33m\u001b[0m\u001b[1;33m\u001b[0m\u001b[0m\n\u001b[0m\u001b[0;32m     11\u001b[0m \u001b[0mx2\u001b[0m\u001b[1;33m=\u001b[0m \u001b[0mb\u001b[0m\u001b[1;33m[\u001b[0m\u001b[0mIndx\u001b[0m\u001b[1;33m[\u001b[0m\u001b[0mn\u001b[0m\u001b[1;33m:\u001b[0m\u001b[1;36m2\u001b[0m\u001b[1;33m*\u001b[0m\u001b[0mn\u001b[0m\u001b[1;33m]\u001b[0m\u001b[1;33m]\u001b[0m\u001b[1;33m+\u001b[0m\u001b[0meps2\u001b[0m\u001b[1;33m\u001b[0m\u001b[1;33m\u001b[0m\u001b[0m\n\u001b[0;32m     12\u001b[0m \u001b[1;33m\u001b[0m\u001b[0m\n",
      "\u001b[1;31mIndexError\u001b[0m: index 8 is out of bounds for axis 0 with size 3"
     ]
    }
   ],
   "source": [
    "\n",
    "\n",
    "n = 10000 # number of samples\n",
    "\n",
    "#Create Random Data around sample from 1.1\n",
    "SampleSet = range(SampleSize)\n",
    "Indx = np.random.choice(SampleSet,2*n)\n",
    "eps1=np.random.multivariate_normal([0,0], 1/4*np.eye(2,2), n)\n",
    "eps2=np.random.multivariate_normal([0,0], 1/4*np.eye(2,2), n)\n",
    "x1= a[Indx[0:n]]+eps1\n",
    "x2= b[Indx[n:2*n]]+eps2\n",
    "\n",
    "#label Data\n",
    "x1= np.insert(x1,2,1,axis=1)\n",
    "x2= np.insert(x2,2,0,axis=1)\n",
    "Data2 = np.concatenate((x1,x2))\n",
    "\n",
    "alpha = LLS(Data2)\n",
    "\n",
    "C=confusion(Data2,alpha)"
   ]
  },
  {
   "cell_type": "markdown",
   "metadata": {},
   "source": [
    "# 1.5"
   ]
  },
  {
   "cell_type": "code",
   "execution_count": 14,
   "metadata": {},
   "outputs": [
    {
     "data": {
      "image/png": "[encoded data removed]",
      "text/plain": [
       "<Figure size 432x288 with 1 Axes>"
      ]
     },
     "metadata": {
      "needs_background": "light"
     },
     "output_type": "display_data"
    },
    {
     "name": "stdout",
     "output_type": "stream",
     "text": [
      "Confusion matrix:  [[50, 0], [0, 100]]\n",
      "accuracy:  1.0\n"
     ]
    },
    {
     "data": {
      "text/plain": [
       "[[50, 0], [0, 100]]"
      ]
     },
     "execution_count": 14,
     "metadata": {},
     "output_type": "execute_result"
    }
   ],
   "source": [
    "#load data\n",
    "url = 'https://archive.ics.uci.edu/ml/machine-learning-databases/iris/iris.data'\n",
    "irisDataFrame1 = pd.read_csv(url , header=None)\n",
    "\n",
    "#label Data (versicolor , virginica = 1, setosa = 0)\n",
    "irisDataFrame1['label'] = irisDataFrame1.iloc[:,4].isin(['Iris-versicolor','Iris-virginica']).astype(int)\n",
    "\n",
    "# plot based on 1st 2 attributes\n",
    "IrisArray1 = np.array(irisDataFrame1.loc[:,[0,1,'label']])\n",
    "conplot(IrisArray1)\n",
    "plt.show()\n",
    "\n",
    "# accuracy based on all attributes\n",
    "IrisArray2 = np.array(irisDataFrame1.loc[:,[0,1,2,3,'label']])\n",
    "confusion(IrisArray2,LLS(IrisArray2))"
   ]
  },
  {
   "cell_type": "markdown",
   "metadata": {},
   "source": [
    "# 1.6"
   ]
  },
  {
   "cell_type": "code",
   "execution_count": 53,
   "metadata": {
    "scrolled": true
   },
   "outputs": [],
   "source": [
    "def J(a,x,y):\n",
    "    n=x.shape[0]\n",
    "    return (1/n)*np.sum((x@a-y)**2)\n",
    "    \n",
    "def GradJ(a,x,y):\n",
    "    n=x.shape[0]\n",
    "    return (2/n)*np.sum((x.dot(a)-y)*x,axis=0).reshape(a.shape)\n",
    "\n",
    "def LLSGrad(X,nu,graph,a):\n",
    "    n = X.shape[0]\n",
    "    d = X.shape[1]\n",
    "    X = np.insert(X,d-1,1,axis=1) # add column of 1s for constant term\n",
    "    x = X[:,0:d] # dependent variable\n",
    "    y = X[:,d].reshape(n,1) # independent variable\n",
    "    \n",
    "    maxSteps=400\n",
    "    tol = 0.001\n",
    "    \n",
    "    step = 0\n",
    "    Vals = np.array([[step],[J(a,x,y)]])\n",
    "    while (np.sum(np.abs(GradJ(a,x,y)))>tol ) and (step < maxSteps):\n",
    "        a = a - nu * GradJ(a,x,y)\n",
    "        step = step + 1\n",
    "        if graph:\n",
    "            Vals=np.concatenate((Vals,np.array([[step],[J(a,x,y)]])),axis=1)\n",
    "        if(step==maxSteps):\n",
    "            return np.zeros(1)\n",
    "    if graph:                        \n",
    "        return Vals\n",
    "    return(a)\n"
   ]
  },
  {
   "cell_type": "code",
   "execution_count": 59,
   "metadata": {},
   "outputs": [
    {
     "data": {
      "image/png": "[encoded data removed]",
      "text/plain": [
       "<Figure size 432x288 with 1 Axes>"
      ]
     },
     "metadata": {
      "needs_background": "light"
     },
     "output_type": "display_data"
    }
   ],
   "source": [
    "nu=1 \n",
    "d = Data1.shape[1]\n",
    "a= np.random.rand(d).reshape(d,1)\n",
    "MaxNu=10\n",
    "count=0\n",
    "while (np.all(LLSGrad(Data1,nu,False,a))==np.array([0])) and (count < MaxNu):\n",
    "    nu=nu*0.1\n",
    "    count = count + 1\n",
    "\n",
    "if (count == MaxNu):\n",
    "    print('Failed to converge')\n",
    "else:\n",
    "    Vals = LLSGrad(Data1,nu,True,a)\n",
    "    plt.plot(Vals[0,:],Vals[1,:])\n",
    "    plt.show()"
   ]
  },
  {
   "cell_type": "markdown",
   "metadata": {},
   "source": [
    "# 1.7"
   ]
  },
  {
   "cell_type": "code",
   "execution_count": 56,
   "metadata": {},
   "outputs": [
    {
     "data": {
      "image/png": "[encoded data removed]",
      "text/plain": [
       "<Figure size 432x288 with 1 Axes>"
      ]
     },
     "metadata": {
      "needs_background": "light"
     },
     "output_type": "display_data"
    }
   ],
   "source": [
    "IrisMean = np.mean(IrisArray2[:,:4], 0)\n",
    "IrisSD = np.std(IrisArray2[:,:4],0)\n",
    "normIris = np.divide(np.subtract(IrisArray2[:,:4], IrisMean), IrisSD)\n",
    "\n",
    "nu=1 \n",
    "d = normIris.shape[1]\n",
    "a= np.random.rand(d).reshape(d,1)\n",
    "MaxNu=10\n",
    "count=0\n",
    "while (np.all(LLSGrad(normIris,nu,False,a))==np.array([0])) and (count < MaxNu):\n",
    "    nu=nu*0.1\n",
    "    count = count + 1\n",
    "\n",
    "if (count == MaxNu):\n",
    "    print('Failed to converge')\n",
    "else:\n",
    "    Vals = LLSGrad(normIris,nu,True,a)\n",
    "    plt.plot(Vals[0,:],Vals[1,:])\n",
    "    plt.show()\n"
   ]
  },
  {
   "cell_type": "markdown",
   "metadata": {},
   "source": [
    "# 1.8"
   ]
  },
  {
   "cell_type": "code",
   "execution_count": 18,
   "metadata": {},
   "outputs": [],
   "source": [
    "#k nearest neighbours algorithm for X 'known' data and Y 'unknown'\n",
    "def nearNeigh(k,Y,X):\n",
    "    n = X.shape[0]\n",
    "    d = X.shape[1]\n",
    "    \n",
    "    eucDist = distance.cdist(Y,X[:,:-1])\n",
    "    \n",
    "    nearest = np.argpartition(eucDist,k,axis=1)[:,:k]\n",
    "    \n",
    "    avVal = np.zeros(Y.shape[0])\n",
    "    for i in range(Y.shape[0]):\n",
    "        avVal[i] = np.sum(X[nearest[i], d-1])\n",
    "        avVal[i] = avVal[i]/k\n",
    "    \n",
    "    return avVal"
   ]
  },
  {
   "cell_type": "code",
   "execution_count": 19,
   "metadata": {},
   "outputs": [],
   "source": [
    "# Confusion Matrix\n",
    "#Prints out the Confusion Matrix and the Accuracy and returns the Confusion Matrix\n",
    "def confusionkNN(X,Xevaled):\n",
    "    n=X.shape[0]\n",
    "    d=X.shape[1]-1\n",
    "    C10=np.sum(np.logical_and([Xevaled>0.5],X[:,d]==0))\n",
    "    C00=np.sum(np.logical_and([Xevaled<0.5],X[:,d]==0))\n",
    "    C01=np.sum(np.logical_and([Xevaled<0.5],X[:,d]==1))\n",
    "    C11=np.sum(np.logical_and([Xevaled>0.5],X[:,d]==1))\n",
    "    C=[[C00,C01],[C10,C11]]\n",
    "    print(\"Confusion matrix: \", C)\n",
    "    print(\"accuracy: \" , np.trace(C)/n)\n",
    "    return(C)"
   ]
  },
  {
   "cell_type": "code",
   "execution_count": 20,
   "metadata": {},
   "outputs": [
    {
     "name": "stdout",
     "output_type": "stream",
     "text": [
      "Confusion matrix:  [[100, 0], [0, 100]]\n",
      "accuracy:  1.0\n",
      "Confusion matrix:  [[89, 18], [11, 82]]\n",
      "accuracy:  0.855\n",
      "Confusion matrix:  [[89, 19], [10, 80]]\n",
      "accuracy:  0.845\n"
     ]
    },
    {
     "data": {
      "text/plain": [
       "[[89, 19], [10, 80]]"
      ]
     },
     "execution_count": 20,
     "metadata": {},
     "output_type": "execute_result"
    }
   ],
   "source": [
    "#running k N.N. for k=1,15,30 \n",
    "nearNeigh(1,Data1[:,:-1],Data1)\n",
    "confusionkNN(Data1, nearNeigh(1,Data1[:,:-1],Data1))\n",
    "nearNeigh(15,Data1[:,:-1],Data1)\n",
    "confusionkNN(Data1, nearNeigh(15,Data1[:,:-1],Data1))\n",
    "nearNeigh(30,Data1[:,:-1],Data1)\n",
    "confusionkNN(Data1, nearNeigh(30,Data1[:,:-1],Data1))"
   ]
  },
  {
   "cell_type": "code",
   "execution_count": 21,
   "metadata": {},
   "outputs": [],
   "source": [
    "def plotkNNcon(X):\n",
    "    maxx = np.amax(X[:,0])\n",
    "    maxy = np.amax(X[:,1])\n",
    "    minx = np.amin(X[:,0])\n",
    "    miny = np.amin(X[:,1])\n",
    "    t = np.arange(minx-1, maxx+1, 0.1)\n",
    "    s = np.arange(miny-1, maxy+1, 0.1)\n",
    "    p,q = np.meshgrid(t, s, sparse=True)\n",
    "    \n",
    "    z = alpha[1,0]*q+alpha[0,0]*p + alpha[2,0]\n",
    "    h = plt.contourf(t,s,z,[-99999,0.5,99999], colors=['blue','red'],alpha=0.5)\n",
    "    plt.plot(X[X[:,2]==1][:,0],X[X[:,2]==1][:,1],'ro',X[X[:,2]==0][:,0],X[X[:,2]==0][:,1],'bo')"
   ]
  },
  {
   "cell_type": "markdown",
   "metadata": {},
   "source": [
    "# 1.9(a)"
   ]
  },
  {
   "cell_type": "code",
   "execution_count": 22,
   "metadata": {},
   "outputs": [
    {
     "name": "stdout",
     "output_type": "stream",
     "text": [
      "Confusion matrix:  [[100, 0], [0, 100]]\n",
      "accuracy:  1.0\n",
      "Confusion matrix:  [[79, 0], [0, 79]]\n",
      "accuracy:  0.79\n",
      "Confusion matrix:  [[91, 6], [9, 94]]\n",
      "accuracy:  0.925\n",
      "Confusion matrix:  [[83, 4], [5, 82]]\n",
      "accuracy:  0.825\n",
      "Confusion matrix:  [[88, 12], [12, 88]]\n",
      "accuracy:  0.88\n",
      "Confusion matrix:  [[85, 6], [8, 83]]\n",
      "accuracy:  0.84\n",
      "Confusion matrix:  [[91, 13], [9, 87]]\n",
      "accuracy:  0.89\n",
      "Confusion matrix:  [[87, 8], [9, 84]]\n",
      "accuracy:  0.855\n",
      "Confusion matrix:  [[88, 13], [12, 87]]\n",
      "accuracy:  0.875\n",
      "Confusion matrix:  [[85, 8], [8, 79]]\n",
      "accuracy:  0.82\n",
      "Confusion matrix:  [[90, 16], [10, 84]]\n",
      "accuracy:  0.87\n",
      "Confusion matrix:  [[86, 14], [9, 79]]\n",
      "accuracy:  0.825\n",
      "Confusion matrix:  [[89, 18], [11, 82]]\n",
      "accuracy:  0.855\n",
      "Confusion matrix:  [[87, 17], [10, 81]]\n",
      "accuracy:  0.84\n",
      "Confusion matrix:  [[89, 18], [11, 82]]\n",
      "accuracy:  0.855\n",
      "Confusion matrix:  [[88, 17], [10, 82]]\n",
      "accuracy:  0.85\n",
      "Confusion matrix:  [[88, 18], [12, 82]]\n",
      "accuracy:  0.85\n",
      "Confusion matrix:  [[87, 16], [11, 82]]\n",
      "accuracy:  0.845\n",
      "Confusion matrix:  [[88, 18], [12, 82]]\n",
      "accuracy:  0.85\n",
      "Confusion matrix:  [[88, 18], [11, 81]]\n",
      "accuracy:  0.845\n",
      "Confusion matrix:  [[89, 18], [11, 82]]\n",
      "accuracy:  0.855\n",
      "Confusion matrix:  [[88, 18], [10, 81]]\n",
      "accuracy:  0.845\n",
      "Confusion matrix:  [[90, 18], [10, 82]]\n",
      "accuracy:  0.86\n",
      "Confusion matrix:  [[89, 18], [10, 81]]\n",
      "accuracy:  0.85\n",
      "Confusion matrix:  [[89, 18], [11, 82]]\n",
      "accuracy:  0.855\n",
      "Confusion matrix:  [[89, 18], [9, 81]]\n",
      "accuracy:  0.85\n",
      "Confusion matrix:  [[89, 18], [11, 82]]\n",
      "accuracy:  0.855\n",
      "Confusion matrix:  [[89, 18], [9, 79]]\n",
      "accuracy:  0.84\n",
      "Confusion matrix:  [[89, 20], [11, 80]]\n",
      "accuracy:  0.845\n",
      "Confusion matrix:  [[89, 19], [10, 80]]\n",
      "accuracy:  0.845\n",
      "Confusion matrix:  [[90, 19], [10, 81]]\n",
      "accuracy:  0.855\n",
      "Confusion matrix:  [[90, 19], [10, 81]]\n",
      "accuracy:  0.855\n",
      "Confusion matrix:  [[90, 19], [10, 81]]\n",
      "accuracy:  0.855\n",
      "Confusion matrix:  [[90, 19], [10, 81]]\n",
      "accuracy:  0.855\n",
      "Confusion matrix:  [[90, 19], [10, 81]]\n",
      "accuracy:  0.855\n",
      "Confusion matrix:  [[89, 19], [9, 80]]\n",
      "accuracy:  0.845\n",
      "Confusion matrix:  [[91, 20], [9, 80]]\n",
      "accuracy:  0.855\n",
      "Confusion matrix:  [[90, 19], [9, 78]]\n",
      "accuracy:  0.84\n",
      "Confusion matrix:  [[91, 20], [9, 80]]\n",
      "accuracy:  0.855\n",
      "Confusion matrix:  [[90, 20], [9, 77]]\n",
      "accuracy:  0.835\n",
      "Confusion matrix:  [[90, 21], [10, 79]]\n",
      "accuracy:  0.845\n",
      "Confusion matrix:  [[90, 21], [9, 78]]\n",
      "accuracy:  0.84\n",
      "Confusion matrix:  [[91, 22], [9, 78]]\n",
      "accuracy:  0.845\n",
      "Confusion matrix:  [[91, 21], [9, 76]]\n",
      "accuracy:  0.835\n",
      "Confusion matrix:  [[91, 21], [9, 79]]\n",
      "accuracy:  0.85\n",
      "Confusion matrix:  [[89, 21], [9, 77]]\n",
      "accuracy:  0.83\n",
      "Confusion matrix:  [[90, 22], [10, 78]]\n",
      "accuracy:  0.84\n",
      "Confusion matrix:  [[90, 21], [9, 77]]\n",
      "accuracy:  0.835\n",
      "Confusion matrix:  [[90, 22], [10, 78]]\n",
      "accuracy:  0.84\n",
      "Confusion matrix:  [[90, 20], [9, 78]]\n",
      "accuracy:  0.84\n",
      "Confusion matrix:  [[91, 21], [9, 79]]\n",
      "accuracy:  0.85\n",
      "Confusion matrix:  [[89, 21], [8, 77]]\n",
      "accuracy:  0.83\n",
      "Confusion matrix:  [[92, 21], [8, 79]]\n",
      "accuracy:  0.855\n",
      "Confusion matrix:  [[90, 21], [8, 78]]\n",
      "accuracy:  0.84\n",
      "Confusion matrix:  [[90, 22], [10, 78]]\n",
      "accuracy:  0.84\n",
      "Confusion matrix:  [[89, 22], [9, 78]]\n",
      "accuracy:  0.835\n",
      "Confusion matrix:  [[91, 22], [9, 78]]\n",
      "accuracy:  0.845\n",
      "Confusion matrix:  [[90, 21], [8, 78]]\n",
      "accuracy:  0.84\n",
      "Confusion matrix:  [[91, 22], [9, 78]]\n",
      "accuracy:  0.845\n",
      "Confusion matrix:  [[89, 21], [9, 78]]\n",
      "accuracy:  0.835\n",
      "Confusion matrix:  [[90, 21], [10, 79]]\n",
      "accuracy:  0.845\n",
      "Confusion matrix:  [[90, 21], [8, 77]]\n",
      "accuracy:  0.835\n",
      "Confusion matrix:  [[91, 23], [9, 77]]\n",
      "accuracy:  0.84\n",
      "Confusion matrix:  [[90, 23], [8, 77]]\n",
      "accuracy:  0.835\n",
      "Confusion matrix:  [[91, 23], [9, 77]]\n",
      "accuracy:  0.84\n",
      "Confusion matrix:  [[90, 22], [9, 77]]\n",
      "accuracy:  0.835\n",
      "Confusion matrix:  [[90, 22], [10, 78]]\n",
      "accuracy:  0.84\n",
      "Confusion matrix:  [[90, 22], [9, 78]]\n",
      "accuracy:  0.84\n",
      "Confusion matrix:  [[91, 22], [9, 78]]\n",
      "accuracy:  0.845\n",
      "Confusion matrix:  [[91, 22], [9, 77]]\n",
      "accuracy:  0.84\n",
      "Confusion matrix:  [[91, 22], [9, 78]]\n",
      "accuracy:  0.845\n",
      "Confusion matrix:  [[90, 21], [9, 78]]\n",
      "accuracy:  0.84\n",
      "Confusion matrix:  [[90, 21], [10, 79]]\n",
      "accuracy:  0.845\n",
      "Confusion matrix:  [[90, 19], [9, 79]]\n",
      "accuracy:  0.845\n",
      "Confusion matrix:  [[90, 20], [10, 80]]\n",
      "accuracy:  0.85\n",
      "Confusion matrix:  [[90, 20], [9, 78]]\n",
      "accuracy:  0.84\n",
      "Confusion matrix:  [[90, 22], [10, 78]]\n",
      "accuracy:  0.84\n",
      "Confusion matrix:  [[88, 21], [8, 77]]\n",
      "accuracy:  0.825\n",
      "Confusion matrix:  [[90, 23], [10, 77]]\n",
      "accuracy:  0.835\n",
      "Confusion matrix:  [[90, 20], [8, 77]]\n",
      "accuracy:  0.835\n",
      "Confusion matrix:  [[92, 22], [8, 78]]\n",
      "accuracy:  0.85\n",
      "Confusion matrix:  [[90, 20], [8, 77]]\n",
      "accuracy:  0.835\n",
      "Confusion matrix:  [[91, 20], [9, 80]]\n",
      "accuracy:  0.855\n",
      "Confusion matrix:  [[90, 20], [8, 77]]\n",
      "accuracy:  0.835\n",
      "Confusion matrix:  [[92, 23], [8, 77]]\n",
      "accuracy:  0.845\n",
      "Confusion matrix:  [[92, 22], [8, 77]]\n",
      "accuracy:  0.845\n",
      "Confusion matrix:  [[92, 23], [8, 77]]\n",
      "accuracy:  0.845\n",
      "Confusion matrix:  [[91, 20], [8, 77]]\n",
      "accuracy:  0.84\n",
      "Confusion matrix:  [[92, 21], [8, 79]]\n",
      "accuracy:  0.855\n",
      "Confusion matrix:  [[92, 21], [8, 78]]\n",
      "accuracy:  0.85\n",
      "Confusion matrix:  [[92, 22], [8, 78]]\n",
      "accuracy:  0.85\n",
      "Confusion matrix:  [[92, 21], [8, 76]]\n",
      "accuracy:  0.84\n",
      "Confusion matrix:  [[92, 22], [8, 78]]\n",
      "accuracy:  0.85\n",
      "Confusion matrix:  [[92, 22], [8, 77]]\n",
      "accuracy:  0.845\n",
      "Confusion matrix:  [[92, 22], [8, 78]]\n",
      "accuracy:  0.85\n",
      "Confusion matrix:  [[91, 21], [8, 77]]\n",
      "accuracy:  0.84\n",
      "Confusion matrix:  [[91, 22], [9, 78]]\n",
      "accuracy:  0.845\n",
      "Confusion matrix:  [[91, 22], [9, 78]]\n",
      "accuracy:  0.845\n",
      "Confusion matrix:  [[91, 22], [9, 78]]\n",
      "accuracy:  0.845\n",
      "Confusion matrix:  [[91, 21], [8, 78]]\n",
      "accuracy:  0.845\n",
      "Confusion matrix:  [[92, 21], [8, 79]]\n",
      "accuracy:  0.855\n",
      "Confusion matrix:  [[91, 20], [8, 77]]\n",
      "accuracy:  0.84\n",
      "Confusion matrix:  [[92, 23], [8, 77]]\n",
      "accuracy:  0.845\n",
      "Confusion matrix:  [[91, 20], [7, 76]]\n",
      "accuracy:  0.835\n",
      "Confusion matrix:  [[93, 24], [7, 76]]\n",
      "accuracy:  0.845\n",
      "Confusion matrix:  [[92, 23], [7, 76]]\n",
      "accuracy:  0.84\n",
      "Confusion matrix:  [[93, 24], [7, 76]]\n",
      "accuracy:  0.845\n",
      "Confusion matrix:  [[93, 22], [7, 75]]\n",
      "accuracy:  0.84\n",
      "Confusion matrix:  [[93, 25], [7, 75]]\n",
      "accuracy:  0.84\n",
      "Confusion matrix:  [[92, 21], [6, 73]]\n",
      "accuracy:  0.825\n",
      "Confusion matrix:  [[94, 25], [6, 75]]\n",
      "accuracy:  0.845\n",
      "Confusion matrix:  [[94, 24], [6, 73]]\n",
      "accuracy:  0.835\n",
      "Confusion matrix:  [[94, 26], [6, 74]]\n",
      "accuracy:  0.84\n",
      "Confusion matrix:  [[93, 26], [5, 73]]\n",
      "accuracy:  0.83\n",
      "Confusion matrix:  [[95, 27], [5, 73]]\n",
      "accuracy:  0.84\n",
      "Confusion matrix:  [[94, 26], [5, 73]]\n",
      "accuracy:  0.835\n",
      "Confusion matrix:  [[95, 27], [5, 73]]\n",
      "accuracy:  0.84\n",
      "Confusion matrix:  [[94, 25], [5, 72]]\n",
      "accuracy:  0.83\n",
      "Confusion matrix:  [[95, 26], [5, 74]]\n",
      "accuracy:  0.845\n",
      "Confusion matrix:  [[95, 25], [5, 72]]\n",
      "accuracy:  0.835\n",
      "Confusion matrix:  [[95, 26], [5, 74]]\n",
      "accuracy:  0.845\n",
      "Confusion matrix:  [[95, 25], [5, 73]]\n",
      "accuracy:  0.84\n",
      "Confusion matrix:  [[95, 27], [5, 73]]\n",
      "accuracy:  0.84\n",
      "Confusion matrix:  [[95, 26], [5, 71]]\n",
      "accuracy:  0.83\n",
      "Confusion matrix:  [[95, 29], [5, 71]]\n",
      "accuracy:  0.83\n",
      "Confusion matrix:  [[95, 28], [5, 71]]\n",
      "accuracy:  0.83\n",
      "Confusion matrix:  [[95, 29], [5, 71]]\n",
      "accuracy:  0.83\n",
      "Confusion matrix:  [[95, 29], [5, 71]]\n",
      "accuracy:  0.83\n",
      "Confusion matrix:  [[95, 29], [5, 71]]\n",
      "accuracy:  0.83\n",
      "Confusion matrix:  [[95, 29], [5, 71]]\n",
      "accuracy:  0.83\n",
      "Confusion matrix:  [[95, 29], [5, 71]]\n",
      "accuracy:  0.83\n",
      "Confusion matrix:  [[95, 29], [5, 70]]\n",
      "accuracy:  0.825\n",
      "Confusion matrix:  [[95, 29], [5, 71]]\n",
      "accuracy:  0.83\n",
      "Confusion matrix:  [[95, 29], [5, 71]]\n",
      "accuracy:  0.83\n",
      "Confusion matrix:  [[95, 29], [5, 71]]\n",
      "accuracy:  0.83\n",
      "Confusion matrix:  [[95, 28], [5, 71]]\n",
      "accuracy:  0.83\n",
      "Confusion matrix:  [[95, 28], [5, 72]]\n",
      "accuracy:  0.835\n",
      "Confusion matrix:  [[95, 28], [5, 71]]\n",
      "accuracy:  0.83\n",
      "Confusion matrix:  [[95, 28], [5, 72]]\n",
      "accuracy:  0.835\n",
      "Confusion matrix:  [[94, 26], [5, 71]]\n",
      "accuracy:  0.825\n",
      "Confusion matrix:  [[95, 27], [5, 73]]\n",
      "accuracy:  0.84\n",
      "Confusion matrix:  [[95, 27], [5, 71]]\n",
      "accuracy:  0.83\n",
      "Confusion matrix:  [[95, 29], [5, 71]]\n",
      "accuracy:  0.83\n",
      "Confusion matrix:  [[95, 25], [5, 71]]\n",
      "accuracy:  0.83\n",
      "Confusion matrix:  [[95, 27], [5, 73]]\n",
      "accuracy:  0.84\n",
      "Confusion matrix:  [[93, 24], [5, 70]]\n",
      "accuracy:  0.815\n",
      "Confusion matrix:  [[93, 27], [7, 73]]\n",
      "accuracy:  0.83\n",
      "Confusion matrix:  [[92, 25], [5, 72]]\n",
      "accuracy:  0.82\n",
      "Confusion matrix:  [[94, 27], [6, 73]]\n",
      "accuracy:  0.835\n",
      "Confusion matrix:  [[94, 24], [6, 71]]\n",
      "accuracy:  0.825\n",
      "Confusion matrix:  [[94, 26], [6, 74]]\n",
      "accuracy:  0.84\n",
      "Confusion matrix:  [[94, 24], [5, 72]]\n",
      "accuracy:  0.83\n",
      "Confusion matrix:  [[95, 24], [5, 76]]\n",
      "accuracy:  0.855\n"
     ]
    },
    {
     "name": "stdout",
     "output_type": "stream",
     "text": [
      "Confusion matrix:  [[95, 23], [5, 73]]\n",
      "accuracy:  0.84\n",
      "Confusion matrix:  [[95, 25], [5, 75]]\n",
      "accuracy:  0.85\n",
      "Confusion matrix:  [[94, 24], [5, 72]]\n",
      "accuracy:  0.83\n",
      "Confusion matrix:  [[94, 26], [6, 74]]\n",
      "accuracy:  0.84\n",
      "Confusion matrix:  [[94, 25], [6, 73]]\n",
      "accuracy:  0.835\n",
      "Confusion matrix:  [[94, 26], [6, 74]]\n",
      "accuracy:  0.84\n",
      "Confusion matrix:  [[94, 24], [6, 73]]\n",
      "accuracy:  0.835\n",
      "Confusion matrix:  [[94, 26], [6, 74]]\n",
      "accuracy:  0.84\n",
      "Confusion matrix:  [[94, 24], [6, 72]]\n",
      "accuracy:  0.83\n",
      "Confusion matrix:  [[94, 25], [6, 75]]\n",
      "accuracy:  0.845\n",
      "Confusion matrix:  [[94, 24], [5, 73]]\n",
      "accuracy:  0.835\n",
      "Confusion matrix:  [[95, 26], [5, 74]]\n",
      "accuracy:  0.845\n",
      "Confusion matrix:  [[92, 24], [5, 73]]\n",
      "accuracy:  0.825\n",
      "Confusion matrix:  [[95, 24], [5, 76]]\n",
      "accuracy:  0.855\n",
      "Confusion matrix:  [[94, 24], [5, 73]]\n",
      "accuracy:  0.835\n",
      "Confusion matrix:  [[95, 27], [5, 73]]\n",
      "accuracy:  0.84\n",
      "Confusion matrix:  [[95, 26], [4, 73]]\n",
      "accuracy:  0.84\n",
      "Confusion matrix:  [[95, 26], [5, 74]]\n",
      "accuracy:  0.845\n",
      "Confusion matrix:  [[95, 26], [4, 70]]\n",
      "accuracy:  0.825\n",
      "Confusion matrix:  [[95, 30], [5, 70]]\n",
      "accuracy:  0.825\n",
      "Confusion matrix:  [[94, 28], [5, 66]]\n",
      "accuracy:  0.8\n",
      "Confusion matrix:  [[95, 33], [5, 67]]\n",
      "accuracy:  0.81\n",
      "Confusion matrix:  [[95, 31], [4, 66]]\n",
      "accuracy:  0.805\n",
      "Confusion matrix:  [[96, 34], [4, 66]]\n",
      "accuracy:  0.81\n",
      "Confusion matrix:  [[95, 28], [3, 64]]\n",
      "accuracy:  0.795\n",
      "Confusion matrix:  [[96, 31], [4, 69]]\n",
      "accuracy:  0.825\n",
      "Confusion matrix:  [[95, 29], [3, 67]]\n",
      "accuracy:  0.81\n",
      "Confusion matrix:  [[96, 30], [4, 70]]\n",
      "accuracy:  0.83\n",
      "Confusion matrix:  [[95, 28], [3, 66]]\n",
      "accuracy:  0.805\n",
      "Confusion matrix:  [[97, 33], [3, 67]]\n",
      "accuracy:  0.82\n",
      "Confusion matrix:  [[97, 31], [3, 67]]\n",
      "accuracy:  0.82\n",
      "Confusion matrix:  [[97, 32], [3, 68]]\n",
      "accuracy:  0.825\n",
      "Confusion matrix:  [[96, 31], [2, 63]]\n",
      "accuracy:  0.795\n",
      "Confusion matrix:  [[98, 35], [2, 65]]\n",
      "accuracy:  0.815\n",
      "Confusion matrix:  [[97, 32], [1, 61]]\n",
      "accuracy:  0.79\n",
      "Confusion matrix:  [[99, 37], [1, 63]]\n",
      "accuracy:  0.81\n",
      "Confusion matrix:  [[99, 36], [1, 62]]\n",
      "accuracy:  0.805\n",
      "Confusion matrix:  [[99, 38], [1, 62]]\n",
      "accuracy:  0.805\n",
      "Confusion matrix:  [[98, 35], [1, 61]]\n",
      "accuracy:  0.795\n",
      "Confusion matrix:  [[99, 39], [1, 61]]\n",
      "accuracy:  0.8\n",
      "Confusion matrix:  [[96, 32], [1, 60]]\n",
      "accuracy:  0.78\n",
      "Confusion matrix:  [[99, 38], [1, 62]]\n",
      "accuracy:  0.805\n",
      "Confusion matrix:  [[95, 32], [1, 61]]\n",
      "accuracy:  0.78\n",
      "Confusion matrix:  [[98, 35], [2, 65]]\n",
      "accuracy:  0.815\n",
      "Confusion matrix:  [[95, 30], [2, 60]]\n",
      "accuracy:  0.775\n",
      "Confusion matrix:  [[95, 31], [5, 69]]\n",
      "accuracy:  0.82\n"
     ]
    }
   ],
   "source": [
    "accuracy1 = np.zeros(200)\n",
    "n = Data1.shape[0]\n",
    "for k in range(199):\n",
    "    C = confusionkNN(Data1, nearNeigh(k+1,Data1[:,:-1],Data1))\n",
    "    accuracy1[k]= np.trace(C)/n"
   ]
  },
  {
   "cell_type": "markdown",
   "metadata": {},
   "source": [
    "# 1.9(b)"
   ]
  },
  {
   "cell_type": "code",
   "execution_count": 23,
   "metadata": {},
   "outputs": [],
   "source": [
    "accuracy2 = np.zeros(200)\n",
    "n = Data2.shape[0]\n",
    "for k in range(200):\n",
    "    C = confusionkNN(Data2, nearNeigh(k+1,Data2[:,:-1],Data1))\n",
    "    accuracy2[k]= np.trace(C)/n"
   ]
  },
  {
   "cell_type": "markdown",
   "metadata": {},
   "source": [
    "# 1.9(c)"
   ]
  },
  {
   "cell_type": "code",
   "execution_count": 28,
   "metadata": {},
   "outputs": [],
   "source": [
    "def accplot(accuracy, colour):\n",
    "    x = np.arange(1, 201, 1)\n",
    "    print(x.size)\n",
    "    y = accuracy\n",
    "    print(y.size)\n",
    "    area = np.pi*7\n",
    " \n",
    "    # Plot\n",
    "    plt.scatter(x, y, s=area, c=colour)\n",
    "    plt.xlabel('k')\n",
    "    plt.ylabel('accuracy')\n",
    "    plt.axis([0,201,0.7,1.01])\n",
    "    plt.show()"
   ]
  },
  {
   "cell_type": "code",
   "execution_count": 29,
   "metadata": {},
   "outputs": [
    {
     "name": "stdout",
     "output_type": "stream",
     "text": [
      "200\n",
      "200\n"
     ]
    },
    {
     "data": {
      "image/png": "[encoded data removed]",
      "text/plain": [
       "<Figure size 432x288 with 1 Axes>"
      ]
     },
     "metadata": {
      "needs_background": "light"
     },
     "output_type": "display_data"
    }
   ],
   "source": [
    "accplot(accuracy1,'green')\n",
    "accplot(accuracy2,'magenta')"
   ]
  },
  {
   "cell_type": "code",
   "execution_count": null,
   "metadata": {},
   "outputs": [],
   "source": []
  }
 ],
 "metadata": {
  "kernelspec": {
   "display_name": "Python 3",
   "language": "python",
   "name": "python3"
  },
  "language_info": {
   "codemirror_mode": {
    "name": "ipython",
    "version": 3
   },
   "file_extension": ".py",
   "mimetype": "text/x-python",
   "name": "python",
   "nbconvert_exporter": "python",
   "pygments_lexer": "ipython3",
   "version": "3.7.3"
  }
 },
 "nbformat": 4,
 "nbformat_minor": 2
}
